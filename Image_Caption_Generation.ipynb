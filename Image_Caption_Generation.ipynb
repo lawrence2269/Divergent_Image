{
 "cells": [
  {
   "cell_type": "markdown",
   "metadata": {},
   "source": [
    "<center><h1> Image Caption Generation </h1></center>"
   ]
  },
  {
   "cell_type": "markdown",
   "metadata": {},
   "source": [
    "The idea behind this topic is to generate caption for a given image. Using this generated caption, select images which are similar to the input image using text similarity and provide the selected images as output.\n",
    "\n",
    "In this project, we are going to use the two architectures of Deep Learning and they are CNN and RNN. CNN is usually used for image classification but works very well for image related operations. On the other hand, RNN is usually used to predict the sequence of things such as sentence, number and etc. So combining these two architectures, we are gonna create a system that is going to predict or generate image caption for an input image. \n",
    "\n",
    "<b><u> Methodology</u></b> \n",
    "<br>\n",
    "I am gonna use a pre-trained model - <b>Xception</b> for extracting image features and LSTM i.e RNN will be using the data got from CNN to generate the descriptions.\n",
    "\n",
    "<b><u>Dataset</u></b> \n",
    "<br>\n",
    "I am going to use the following datasets for training and validation of the model\n",
    "<ul>\n",
    "    <li>Flickr_8K => contains images</li>\n",
    "    <li>Flickr_8K_text => contains a file called flickr8k.token which contains the image and its respective token</li>\n",
    "</ul>\n",
    "<br>\n",
    "<b><u>Libraries</u></b> <br>\n",
    "<ul>\n",
    "    <li> Keras </li>\n",
    "    <li> NumPy </li>\n",
    "    <li> Pickle </li>\n",
    "    <li> String </li>\n",
    "</ul>"
   ]
  },
  {
   "cell_type": "code",
   "execution_count": 1,
   "metadata": {},
   "outputs": [],
   "source": [
    "import numpy as np #to perform numerical calculations\n",
    "from PIL import Image #to read images\n",
    "import os #to read contents from a directory in a system\n",
    "from pickle import dump, load #to load or save files, models, features and etc.\n",
    "import string #to preprocess captions\n",
    "from pickle import load,dump #to load or dump files\n",
    "import matplotlib.pyplot as plt"
   ]
  },
  {
   "cell_type": "markdown",
   "metadata": {},
   "source": [
    "### Preprocessing"
   ]
  },
  {
   "cell_type": "code",
   "execution_count": 2,
   "metadata": {},
   "outputs": [],
   "source": [
    "#Reading images and its corresponding captions\n",
    "file = open(\"Data/Flickr8k_text/Flickr8k.token.txt\",\"r\")\n",
    "caption_image_data = file.readlines()\n",
    "caption_image_dict = {}\n",
    "for data in caption_image_data:\n",
    "    temp = data.split(\"\\t\") #splitting data based on tab space\n",
    "    img_name = temp[0].split(\"#\")[0].strip(\"\\'\") #getting image name as text\n",
    "    captions = temp[1].rstrip().strip(\"\\'\") #getting caption\n",
    "    \n",
    "    #Preprocessing\n",
    "    captions = captions.split() #converting caption into list of words for preprocessing\n",
    "    captions = [caption.lower() for caption in captions] #converting each word into lowercase\n",
    "    captions = [caption for caption in captions if caption not in string.punctuation] #filtering the words which are not in punctuation list\n",
    "    captions = [caption for caption in captions if(len(caption)>1)] #removing a, 's, etc.\n",
    "    captions = [caption for caption in captions if(caption.isalpha())] #getting only text and not numbers\n",
    "    captions = \" \".join(captions) #joining the final list of words into one sentence\n",
    "    \n",
    "    #creating a dict of image name and its corresponding 5 sentences\n",
    "    if(img_name not in caption_image_dict):\n",
    "        caption_image_dict[img_name] = [captions]\n",
    "    else:\n",
    "        caption_image_dict[img_name].append(captions)\n",
    "\n",
    "#creating a file with processed text and image name also creating a vocabulary.\n",
    "vocab = set()\n",
    "final_Lines = []\n",
    "for imgName, caption_list in caption_image_dict.items():\n",
    "    for captions in caption_list:\n",
    "        for caption in captions.split():\n",
    "            vocab.add(caption) #Creating vocabulary\n",
    "        final_Lines.append(imgName+\"\\t\"+captions)\n",
    "\n",
    "final_Lines = \"\\n\".join(final_Lines) #Joining the contents of the list by next line character\n",
    "caption_file = open(\"Data/Flickr8k_text/Captions.txt\",\"w\")\n",
    "caption_file.write(final_Lines) #writing the final data into a file for further process\n",
    "caption_file.close() #closing the file"
   ]
  },
  {
   "cell_type": "markdown",
   "metadata": {},
   "source": [
    "### Transfer Learning - Extracting features vector from all images"
   ]
  },
  {
   "cell_type": "markdown",
   "metadata": {},
   "source": [
    "I am going to use Xception, a pre-trained image classification model to fetch the feature vectors i.e. important characterstics of all images in our dataset as vectors. This model was trained on Imagenet dataset with 1000 classes to classify. In this architecture, I am going to remove the last output layer = classification layer as it is not a classification task. This architecture take images of size 299 x 299 x 3 and outputs 2048 feature vectors. I am going to save this feature vectors as a file for future usage rather than running this architecture every time."
   ]
  },
  {
   "cell_type": "code",
   "execution_count": 2,
   "metadata": {},
   "outputs": [],
   "source": [
    "from keras.applications.xception import Xception\n",
    "from keras.preprocessing.image import load_img\n",
    "from keras.preprocessing.image import img_to_array"
   ]
  },
  {
   "cell_type": "code",
   "execution_count": 4,
   "metadata": {
    "scrolled": true
   },
   "outputs": [],
   "source": [
    "model = Xception( include_top=False, pooling='avg') #include_top is false because we don't want classification layer and pooling is to reduce the dimensional complexity"
   ]
  },
  {
   "cell_type": "code",
   "execution_count": 6,
   "metadata": {},
   "outputs": [],
   "source": [
    "image_dir = \"Data/Flicker8k_Dataset\"\n",
    "image_names = os.listdir(image_dir)\n",
    "feature_vectors = {}\n",
    "for img in image_names:\n",
    "    image = Image.open(image_dir+\"/\"+img)#Loading images and resizing it\n",
    "    image = image.resize((299,299)) #resizing image\n",
    "    image = np.expand_dims(image, axis=0) #adding one more dimension to the image array\n",
    "    image = image/127.5 #Normalizing\n",
    "    image = image - 1.0 #Scaling\n",
    "    \n",
    "    feature_vectors[img] = model.predict(image) #extracting features\n",
    "\n",
    "dump(feature_vectors, open(\"Data/Flicker8k_Dataset/features.p\",\"wb\")) #saving the features"
   ]
  },
  {
   "cell_type": "markdown",
   "metadata": {},
   "source": [
    "### Loading input data for training"
   ]
  },
  {
   "cell_type": "code",
   "execution_count": 3,
   "metadata": {},
   "outputs": [],
   "source": [
    "#Image and its respective captions\n",
    "train_Image_path = \"Data/Flickr8k_text/Flickr_8k.trainImages.txt\"\n",
    "image_file = open(train_Image_path,\"r\")\n",
    "train_image_data = image_file.readlines()\n",
    "photos = []\n",
    "for img in train_image_data:\n",
    "    photos.append(img.split(\"\\n\")[0].rstrip().strip(\"\\'\")) #almost 12000 images for training\n",
    "\n",
    "cleaned_caption_path = \"Data/Flickr8k_text/Captions.txt\"\n",
    "caption_file = open(cleaned_caption_path,\"r\")\n",
    "caption_data = caption_file.readlines()\n",
    "\n",
    "final_caption_data = {}\n",
    "for data in caption_data:\n",
    "    temp = data.split(\"\\n\")[0].split()\n",
    "    if(len(temp)<1):\n",
    "        continue\n",
    "    image_name, image_desc = temp[0], temp[1:]\n",
    "    \n",
    "    if(image_name in photos):\n",
    "        if(image_name not in final_caption_data):\n",
    "            final_caption_data[image_name] = []\n",
    "        caption = \"<start> \"+\" \".join(image_desc)+\" <end>\"\n",
    "        final_caption_data[image_name].append(caption)"
   ]
  },
  {
   "cell_type": "code",
   "execution_count": 4,
   "metadata": {},
   "outputs": [],
   "source": [
    "#image's feature vectors\n",
    "feature_vector = load(open(\"Data/Flicker8k_Dataset/features.p\",\"rb\"))\n",
    "feature_dict = {}\n",
    "for photo in photos:\n",
    "    feature_dict[photo] = feature_vector[photo]"
   ]
  },
  {
   "cell_type": "code",
   "execution_count": 5,
   "metadata": {},
   "outputs": [
    {
     "data": {
      "text/plain": [
       "33"
      ]
     },
     "execution_count": 5,
     "metadata": {},
     "output_type": "execute_result"
    }
   ],
   "source": [
    "#Vocabulary Tokenization\n",
    "from keras.preprocessing.text import Tokenizer\n",
    "\n",
    "captions_List = []\n",
    "for key in final_caption_data.keys():\n",
    "    [captions_List.append(d) for d in final_caption_data[key]]\n",
    "    \n",
    "tokenizer = Tokenizer()\n",
    "tokenizer.fit_on_texts(captions_List)\n",
    "dump(tokenizer, open('Data/Flickr8k_text/tokenized_text.p', 'wb'))\n",
    "vocab_size = len(tokenizer.word_index) + 1\n",
    "vocab_size #7264\n",
    "\n",
    "#maximum length of captions is need to set the model parameters\n",
    "max_length = max(len(cap.split()) for cap in captions_List)\n",
    "max_length"
   ]
  },
  {
   "cell_type": "markdown",
   "metadata": {},
   "source": [
    "We now need to format the input data that can be applied to a model for training, but having a huge size of data in memory and training on it is not a good practice. Hence, we need to make the data available in batches, so we need data generators which would make the data available for training in batches.\n",
    "\n",
    "So our input consists of [X1,X2] where X1 is 2048 feature vector for image and X2 is embeddings for the captions of that image for 6000 images and output is text sequence."
   ]
  },
  {
   "cell_type": "code",
   "execution_count": 7,
   "metadata": {},
   "outputs": [],
   "source": [
    "from keras.preprocessing.sequence import pad_sequences\n",
    "from keras.utils import to_categorical\n",
    "\n",
    "def generate_Data(captions, feat, tokenizer,max_Length,vocabulary_size):\n",
    "    x1 = [] # image features\n",
    "    x2 = [] # Sequence of texts\n",
    "    y = [] #output sequence of texts\n",
    "    for imageName,captionList in captions.items():\n",
    "        image_feature = feat[imageName][0]\n",
    "        for descriptions in captionList:\n",
    "            sequences = tokenizer.texts_to_sequences([descriptions])[0]\n",
    "            for i in range(1,len(sequences)):\n",
    "                in_sequence, out_sequence = sequences[:i], sequences[i]\n",
    "                in_sequence = pad_sequences([in_sequence], maxlen=max_Length)[0]\n",
    "                out_sequence = to_categorical([out_sequence], num_classes=vocabulary_size)[0]\n",
    "                x1.append(image_feature)\n",
    "                x2.append(in_sequence)\n",
    "                y.append(out_sequence)\n",
    "    return np.array(x1),np.array(x2),np.array(y)"
   ]
  },
  {
   "cell_type": "code",
   "execution_count": 8,
   "metadata": {},
   "outputs": [
    {
     "data": {
      "text/plain": [
       "((357116, 2048), (357116, 33), (357116, 7803))"
      ]
     },
     "execution_count": 8,
     "metadata": {},
     "output_type": "execute_result"
    }
   ],
   "source": [
    "input_1,input_2,output = generate_Data(final_caption_data, feature_dict, tokenizer, max_length,vocab_size)\n",
    "input_1.shape, input_2.shape, output.shape"
   ]
  },
  {
   "cell_type": "markdown",
   "metadata": {},
   "source": [
    "### Loading input data for testing"
   ]
  },
  {
   "cell_type": "code",
   "execution_count": 9,
   "metadata": {},
   "outputs": [],
   "source": [
    "#Image and its respective captions\n",
    "test_Image_path = \"Data/Flickr8k_text/Flickr_8k.testImages.txt\"\n",
    "image_file = open(test_Image_path,\"r\")\n",
    "test_image_data = image_file.readlines()\n",
    "photos_test = []\n",
    "for img in test_image_data:\n",
    "    photos_test.append(img.split(\"\\n\")[0].rstrip().strip(\"\\'\"))\n",
    "\n",
    "cleaned_caption_path = \"Data/Flickr8k_text/Captions.txt\"\n",
    "caption_file = open(cleaned_caption_path,\"r\")\n",
    "caption_test_data = caption_file.readlines()\n",
    "\n",
    "final_caption_test_data = {}\n",
    "for data in caption_test_data:\n",
    "    temp = data.split(\"\\n\")[0].split()\n",
    "    if(len(temp)<1):\n",
    "        continue\n",
    "    image_name, image_desc = temp[0], temp[1:]\n",
    "    \n",
    "    if(image_name in photos_test):\n",
    "        if(image_name not in final_caption_test_data):\n",
    "            final_caption_test_data[image_name] = []\n",
    "        caption = \"<start> \"+\" \".join(image_desc)+\" <end>\"\n",
    "        final_caption_test_data[image_name].append(caption)"
   ]
  },
  {
   "cell_type": "code",
   "execution_count": 10,
   "metadata": {},
   "outputs": [],
   "source": [
    "#image's feature vectors\n",
    "feature_vector = load(open(\"Data/Flicker8k_Dataset/features.p\",\"rb\"))\n",
    "feature_dict_test = {}\n",
    "for photos in photos_test:\n",
    "    feature_dict_test[photos] = feature_vector[photos]"
   ]
  },
  {
   "cell_type": "code",
   "execution_count": 11,
   "metadata": {},
   "outputs": [
    {
     "data": {
      "text/plain": [
       "((50634, 2048), (50634, 33), (50634, 7803))"
      ]
     },
     "execution_count": 11,
     "metadata": {},
     "output_type": "execute_result"
    }
   ],
   "source": [
    "input_2,input_3,output_2 = generate_Data(final_caption_test_data, feature_dict_test, tokenizer, max_length,vocab_size)\n",
    "input_2.shape, input_3.shape, output_2.shape"
   ]
  },
  {
   "cell_type": "markdown",
   "metadata": {},
   "source": [
    "### Model building"
   ]
  },
  {
   "cell_type": "code",
   "execution_count": 12,
   "metadata": {},
   "outputs": [
    {
     "name": "stdout",
     "output_type": "stream",
     "text": [
      "Model: \"functional_1\"\n",
      "__________________________________________________________________________________________________\n",
      "Layer (type)                    Output Shape         Param #     Connected to                     \n",
      "==================================================================================================\n",
      "input_2 (InputLayer)            [(None, 33)]         0                                            \n",
      "__________________________________________________________________________________________________\n",
      "input_1 (InputLayer)            [(None, 2048)]       0                                            \n",
      "__________________________________________________________________________________________________\n",
      "embedding (Embedding)           (None, 33, 256)      1997568     input_2[0][0]                    \n",
      "__________________________________________________________________________________________________\n",
      "dropout (Dropout)               (None, 2048)         0           input_1[0][0]                    \n",
      "__________________________________________________________________________________________________\n",
      "dropout_1 (Dropout)             (None, 33, 256)      0           embedding[0][0]                  \n",
      "__________________________________________________________________________________________________\n",
      "dense (Dense)                   (None, 256)          524544      dropout[0][0]                    \n",
      "__________________________________________________________________________________________________\n",
      "lstm (LSTM)                     (None, 256)          525312      dropout_1[0][0]                  \n",
      "__________________________________________________________________________________________________\n",
      "add (Add)                       (None, 256)          0           dense[0][0]                      \n",
      "                                                                 lstm[0][0]                       \n",
      "__________________________________________________________________________________________________\n",
      "dense_1 (Dense)                 (None, 256)          65792       add[0][0]                        \n",
      "__________________________________________________________________________________________________\n",
      "dense_2 (Dense)                 (None, 7803)         2005371     dense_1[0][0]                    \n",
      "==================================================================================================\n",
      "Total params: 5,118,587\n",
      "Trainable params: 5,118,587\n",
      "Non-trainable params: 0\n",
      "__________________________________________________________________________________________________\n",
      "None\n"
     ]
    }
   ],
   "source": [
    "from keras.layers.merge import add\n",
    "from keras.models import Model, load_model\n",
    "from keras.layers import Input, Dense, LSTM, Embedding, Dropout\n",
    "\n",
    "input1 = Input(shape=(2048,))\n",
    "feature1 = Dropout(0.5)(input1)\n",
    "feature2 = Dense(256, activation='relu')(feature1)\n",
    "\n",
    "input2 = Input(shape=(max_length,))\n",
    "seq1 = Embedding(vocab_size, 256, mask_zero=True)(input2)\n",
    "seq2 = Dropout(0.5)(seq1)\n",
    "seq3 = LSTM(256)(seq2)\n",
    "\n",
    "decoder1 = add([feature2, seq3])\n",
    "decoder2 = Dense(256, activation='relu')(decoder1)\n",
    "outputs = Dense(vocab_size, activation='softmax')(decoder2)\n",
    "\n",
    "model = Model(inputs=[input1, input2], outputs=outputs)\n",
    "model.compile(loss='categorical_crossentropy', optimizer='adam',metrics=['accuracy'])\n",
    "\n",
    "print(model.summary())"
   ]
  },
  {
   "cell_type": "code",
   "execution_count": 13,
   "metadata": {},
   "outputs": [
    {
     "name": "stdout",
     "output_type": "stream",
     "text": [
      "Epoch 1/20\n",
      "\n",
      "Epoch 00001: val_loss improved from inf to 3.79400, saving model to Models/model-ep001-loss4.281-val_loss3.794.h5\n",
      "11160/11160 - 1081s - loss: 4.2808 - accuracy: 0.2582 - val_loss: 3.7940 - val_accuracy: 0.2970\n",
      "Epoch 2/20\n",
      "\n",
      "Epoch 00002: val_loss improved from 3.79400 to 3.64045, saving model to Models/model-ep002-loss3.619-val_loss3.640.h5\n",
      "11160/11160 - 974s - loss: 3.6194 - accuracy: 0.3073 - val_loss: 3.6405 - val_accuracy: 0.3138\n",
      "Epoch 3/20\n",
      "\n",
      "Epoch 00003: val_loss improved from 3.64045 to 3.63960, saving model to Models/model-ep003-loss3.418-val_loss3.640.h5\n",
      "11160/11160 - 973s - loss: 3.4178 - accuracy: 0.3212 - val_loss: 3.6396 - val_accuracy: 0.3221\n",
      "Epoch 4/20\n",
      "\n",
      "Epoch 00004: val_loss improved from 3.63960 to 3.63854, saving model to Models/model-ep004-loss3.321-val_loss3.639.h5\n",
      "11160/11160 - 976s - loss: 3.3206 - accuracy: 0.3283 - val_loss: 3.6385 - val_accuracy: 0.3257\n",
      "Epoch 5/20\n",
      "\n",
      "Epoch 00005: val_loss did not improve from 3.63854\n",
      "11160/11160 - 978s - loss: 3.2631 - accuracy: 0.3340 - val_loss: 3.6421 - val_accuracy: 0.3255\n",
      "Epoch 6/20\n",
      "\n",
      "Epoch 00006: val_loss did not improve from 3.63854\n",
      "11160/11160 - 980s - loss: 3.2288 - accuracy: 0.3365 - val_loss: 3.6894 - val_accuracy: 0.3250\n",
      "Epoch 7/20\n",
      "\n",
      "Epoch 00007: val_loss did not improve from 3.63854\n",
      "11160/11160 - 979s - loss: 3.2062 - accuracy: 0.3387 - val_loss: 3.7085 - val_accuracy: 0.3269\n",
      "Epoch 8/20\n",
      "\n",
      "Epoch 00008: val_loss did not improve from 3.63854\n",
      "11160/11160 - 1074s - loss: 3.1934 - accuracy: 0.3402 - val_loss: 3.7077 - val_accuracy: 0.3290\n",
      "Epoch 9/20\n",
      "\n",
      "Epoch 00009: val_loss did not improve from 3.63854\n",
      "11160/11160 - 1047s - loss: 3.1807 - accuracy: 0.3416 - val_loss: 3.7309 - val_accuracy: 0.3282\n",
      "Epoch 10/20\n",
      "\n",
      "Epoch 00010: val_loss did not improve from 3.63854\n",
      "11160/11160 - 1051s - loss: 3.1774 - accuracy: 0.3420 - val_loss: 3.7574 - val_accuracy: 0.3266\n",
      "Epoch 11/20\n",
      "\n",
      "Epoch 00011: val_loss did not improve from 3.63854\n",
      "11160/11160 - 1019s - loss: 3.1762 - accuracy: 0.3424 - val_loss: 3.7607 - val_accuracy: 0.3259\n",
      "Epoch 12/20\n",
      "\n",
      "Epoch 00012: val_loss did not improve from 3.63854\n",
      "11160/11160 - 1135s - loss: 3.1768 - accuracy: 0.3428 - val_loss: 3.7834 - val_accuracy: 0.3270\n",
      "Epoch 13/20\n",
      "\n",
      "Epoch 00013: val_loss did not improve from 3.63854\n",
      "11160/11160 - 1268s - loss: 3.1792 - accuracy: 0.3430 - val_loss: 3.8114 - val_accuracy: 0.3229\n",
      "Epoch 14/20\n",
      "\n",
      "Epoch 00014: val_loss did not improve from 3.63854\n",
      "11160/11160 - 1037s - loss: 3.1793 - accuracy: 0.3435 - val_loss: 3.8256 - val_accuracy: 0.3273\n",
      "Epoch 15/20\n",
      "\n",
      "Epoch 00015: val_loss did not improve from 3.63854\n",
      "11160/11160 - 1062s - loss: 3.1841 - accuracy: 0.3426 - val_loss: 3.8311 - val_accuracy: 0.3254\n",
      "Epoch 16/20\n",
      "\n",
      "Epoch 00016: val_loss did not improve from 3.63854\n",
      "11160/11160 - 1000s - loss: 3.1887 - accuracy: 0.3426 - val_loss: 3.8318 - val_accuracy: 0.3219\n",
      "Epoch 17/20\n",
      "\n",
      "Epoch 00017: val_loss did not improve from 3.63854\n",
      "11160/11160 - 995s - loss: 3.1885 - accuracy: 0.3429 - val_loss: 3.8387 - val_accuracy: 0.3244\n",
      "Epoch 18/20\n",
      "\n",
      "Epoch 00018: val_loss did not improve from 3.63854\n",
      "11160/11160 - 987s - loss: 3.1947 - accuracy: 0.3424 - val_loss: 3.8793 - val_accuracy: 0.3242\n",
      "Epoch 19/20\n",
      "\n",
      "Epoch 00019: val_loss did not improve from 3.63854\n",
      "11160/11160 - 987s - loss: 3.2020 - accuracy: 0.3421 - val_loss: 3.9069 - val_accuracy: 0.3239\n",
      "Epoch 20/20\n",
      "\n",
      "Epoch 00020: val_loss did not improve from 3.63854\n",
      "11160/11160 - 986s - loss: 3.2093 - accuracy: 0.3415 - val_loss: 3.9160 - val_accuracy: 0.3230\n"
     ]
    }
   ],
   "source": [
    "from keras.callbacks import ModelCheckpoint\n",
    "X1train, X2train, ytrain = generate_Data(final_caption_data, feature_dict, tokenizer, max_length,vocab_size)\n",
    "X1test, X2test,ytest = generate_Data(final_caption_test_data, feature_dict_test, tokenizer, max_length,vocab_size)\n",
    "\n",
    "filepath = 'Models/model-ep{epoch:03d}-loss{loss:.3f}-val_loss{val_loss:.3f}.h5'\n",
    "checkpoint = ModelCheckpoint(filepath, monitor='val_loss', verbose=1, save_best_only=True, mode='min')\n",
    "\n",
    "# fit model\n",
    "history = model.fit([X1train, X2train], ytrain, epochs=20, verbose=2, callbacks=[checkpoint],validation_data=([X1test, X2test], ytest))"
   ]
  },
  {
   "cell_type": "code",
   "execution_count": 32,
   "metadata": {},
   "outputs": [],
   "source": [
    "#print(history.history.items())"
   ]
  },
  {
   "cell_type": "code",
   "execution_count": 17,
   "metadata": {},
   "outputs": [],
   "source": [
    "#dump(history.history, open('Models/history.p', 'wb'))"
   ]
  },
  {
   "cell_type": "code",
   "execution_count": 3,
   "metadata": {},
   "outputs": [],
   "source": [
    "hist = load(open('Models/history.p',\"rb\"))"
   ]
  },
  {
   "cell_type": "markdown",
   "metadata": {},
   "source": [
    "### Model Accuracy"
   ]
  },
  {
   "cell_type": "code",
   "execution_count": 15,
   "metadata": {},
   "outputs": [
    {
     "data": {
      "image/png": "[encoded data removed]",
      "text/plain": [
       "<Figure size 432x288 with 1 Axes>"
      ]
     },
     "metadata": {
      "needs_background": "light"
     },
     "output_type": "display_data"
    }
   ],
   "source": [
    "plt.plot(hist['accuracy'])\n",
    "plt.plot(hist['val_accuracy'])\n",
    "plt.title('model accuracy')\n",
    "plt.ylabel('accuracy')\n",
    "plt.xlabel('epoch')\n",
    "plt.xticks(np.arange(1, 21, 1))\n",
    "plt.legend(['train', 'validation'], loc='center',bbox_to_anchor=(0.5, 1.15), ncol=2)\n",
    "plt.grid()\n",
    "plt.show()"
   ]
  },
  {
   "cell_type": "markdown",
   "metadata": {},
   "source": [
    "### Model Loss"
   ]
  },
  {
   "cell_type": "code",
   "execution_count": 14,
   "metadata": {},
   "outputs": [
    {
     "data": {
      "image/png": "[encoded data removed]",
      "text/plain": [
       "<Figure size 432x288 with 1 Axes>"
      ]
     },
     "metadata": {
      "needs_background": "light"
     },
     "output_type": "display_data"
    }
   ],
   "source": [
    "plt.plot(hist['loss'])\n",
    "plt.plot(hist['val_loss'])\n",
    "plt.title('model loss')\n",
    "plt.ylabel('loss')\n",
    "plt.xlabel('epoch')\n",
    "plt.xticks(np.arange(1, 21, 1))\n",
    "plt.legend(['train', 'validation'], loc='center',bbox_to_anchor=(0.5, 1.15), ncol=2)\n",
    "plt.grid()\n",
    "plt.show()"
   ]
  },
  {
   "cell_type": "code",
   "execution_count": null,
   "metadata": {},
   "outputs": [],
   "source": []
  }
 ],
 "metadata": {
  "kernelspec": {
   "display_name": "Python 3",
   "language": "python",
   "name": "python3"
  },
  "language_info": {
   "codemirror_mode": {
    "name": "ipython",
    "version": 3
   },
   "file_extension": ".py",
   "mimetype": "text/x-python",
   "name": "python",
   "nbconvert_exporter": "python",
   "pygments_lexer": "ipython3",
   "version": "3.8.5"
  }
 },
 "nbformat": 4,
 "nbformat_minor": 4
}
